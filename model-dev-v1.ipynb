{
 "cells": [
  {
   "cell_type": "markdown",
   "id": "f84d86c4-758a-43ba-a2f5-b2b17a30a2e2",
   "metadata": {},
   "source": [
    "### This file conatins codes for developing model"
   ]
  },
  {
   "cell_type": "markdown",
   "id": "923ecc41-c0b1-4e38-bfa8-c02f93567296",
   "metadata": {},
   "source": [
    "Importing necessary libs"
   ]
  },
  {
   "cell_type": "code",
   "execution_count": 1,
   "id": "12a3aa71-d9b2-4cd3-a4dd-0e0ae59e4a32",
   "metadata": {},
   "outputs": [],
   "source": [
    "import numpy as np\n",
    "import pandas as pd\n",
    "import tensorflow as tf"
   ]
  },
  {
   "cell_type": "code",
   "execution_count": 2,
   "id": "9b09d8f0-f4b5-43ea-94ad-eac8bfd41f7c",
   "metadata": {},
   "outputs": [
    {
     "name": "stdout",
     "output_type": "stream",
     "text": [
      "np.__version__:  1.24.3\n",
      "pd.__version__:  2.0.3\n",
      "tf.__version__:  2.13.0\n"
     ]
    }
   ],
   "source": [
    "print('np.__version__: ', f\"{np.__version__}\")\n",
    "print('pd.__version__: ', f\"{pd.__version__}\")\n",
    "print('tf.__version__: ', f\"{tf.__version__}\")"
   ]
  },
  {
   "cell_type": "code",
   "execution_count": 3,
   "id": "b34e57b6",
   "metadata": {},
   "outputs": [
    {
     "data": {
      "text/plain": [
       "3"
      ]
     },
     "execution_count": 3,
     "metadata": {},
     "output_type": "execute_result"
    }
   ],
   "source": [
    "from src.demo import simple_add\n",
    "\n",
    "simple_add(1,2)"
   ]
  },
  {
   "cell_type": "code",
   "execution_count": 4,
   "id": "68ca404f",
   "metadata": {},
   "outputs": [
    {
     "name": "stdout",
     "output_type": "stream",
     "text": [
      "Raw Data\n",
      "         Date   Open       High        Low      Close  Adj Close    Volume\n",
      "0  2006-12-13  25.00  26.059999  21.610001  25.600000  25.600000  10771500\n",
      "1  2006-12-14  25.66  26.000000  24.510000  25.150000  25.150000    998900\n",
      "2  2006-12-15  25.24  26.000000  24.110001  24.600000  24.600000   1012600\n",
      "3  2006-12-18  24.40  25.000000  23.600000  23.790001  23.790001    734400\n",
      "4  2006-12-19  23.58  23.990000  22.500000  23.100000  23.100000   1297900\n",
      "\n",
      "Technical Analysis\n",
      "         Date  Adj Close     HL_PCT  PCT_change    Volume    MA_5  MA_20  \\\n",
      "0  2006-12-13  25.600000  20.592308    2.400000  10771500     NaN    NaN   \n",
      "1  2006-12-14  25.150000   6.079151   -1.987529    998900     NaN    NaN   \n",
      "2  2006-12-15  24.600000   7.839066   -2.535658   1012600     NaN    NaN   \n",
      "3  2006-12-18  23.790001   5.932203   -2.499996    734400     NaN    NaN   \n",
      "4  2006-12-19  23.100000   6.622222   -2.035623   1297900  24.448    NaN   \n",
      "\n",
      "   MA_60  EMA_5    up_band  mid_band   low_band  ADX  MACD  RSI  ATR  MOM  \\\n",
      "0    NaN    NaN        NaN       NaN        NaN  NaN   NaN  NaN  NaN  NaN   \n",
      "1    NaN    NaN        NaN       NaN        NaN  NaN   NaN  NaN  NaN  NaN   \n",
      "2    NaN    NaN        NaN       NaN        NaN  NaN   NaN  NaN  NaN  NaN   \n",
      "3    NaN    NaN        NaN       NaN        NaN  NaN   NaN  NaN  NaN  NaN   \n",
      "4    NaN    NaN  26.257548    24.448  22.638452  NaN   NaN  NaN  NaN  NaN   \n",
      "\n",
      "   WILLR  CCI         OBV  \n",
      "0    NaN  NaN  10771500.0  \n",
      "1    NaN  NaN   9772600.0  \n",
      "2    NaN  NaN   8760000.0  \n",
      "3    NaN  NaN   8025600.0  \n",
      "4    NaN  NaN   6727700.0  \n",
      "\n"
     ]
    }
   ],
   "source": [
    "data_raw = pd.read_csv('data/IPGP.csv')\n",
    "data_analysis = pd.read_csv('data/Data_for_IPGP.csv')\n",
    "\n",
    "print('Raw Data')\n",
    "print(data_raw.head(5))\n",
    "print()\n",
    "\n",
    "print('Technical Analysis')\n",
    "print(data_analysis.head(5))\n",
    "print()"
   ]
  }
 ],
 "metadata": {
  "kernelspec": {
   "display_name": "Python 3 (ipykernel)",
   "language": "python",
   "name": "python3"
  },
  "language_info": {
   "codemirror_mode": {
    "name": "ipython",
    "version": 3
   },
   "file_extension": ".py",
   "mimetype": "text/x-python",
   "name": "python",
   "nbconvert_exporter": "python",
   "pygments_lexer": "ipython3",
   "version": "3.8.16"
  }
 },
 "nbformat": 4,
 "nbformat_minor": 5
}
