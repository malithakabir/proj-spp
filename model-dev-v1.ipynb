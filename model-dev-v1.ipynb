{
 "cells": [
  {
   "cell_type": "markdown",
   "id": "f84d86c4-758a-43ba-a2f5-b2b17a30a2e2",
   "metadata": {},
   "source": [
    "### This file conatins codes for developing model"
   ]
  },
  {
   "cell_type": "markdown",
   "id": "923ecc41-c0b1-4e38-bfa8-c02f93567296",
   "metadata": {},
   "source": [
    "Importing necessary libs"
   ]
  },
  {
   "cell_type": "code",
   "execution_count": 1,
   "id": "12a3aa71-d9b2-4cd3-a4dd-0e0ae59e4a32",
   "metadata": {},
   "outputs": [],
   "source": [
    "import numpy as np\n",
    "import pandas as pd\n",
    "import tensorflow as tf"
   ]
  },
  {
   "cell_type": "code",
   "execution_count": 2,
   "id": "9b09d8f0-f4b5-43ea-94ad-eac8bfd41f7c",
   "metadata": {},
   "outputs": [
    {
     "name": "stdout",
     "output_type": "stream",
     "text": [
      "np.__version__:  1.24.3\n",
      "pd.__version__:  2.0.3\n",
      "tf.__version__:  2.13.0\n"
     ]
    }
   ],
   "source": [
    "print('np.__version__: ', f\"{np.__version__}\")\n",
    "print('pd.__version__: ', f\"{pd.__version__}\")\n",
    "print('tf.__version__: ', f\"{tf.__version__}\")"
   ]
  },
  {
   "cell_type": "code",
   "execution_count": null,
   "id": "d04fa64c-7412-4d5f-b71e-51d42933fbeb",
   "metadata": {},
   "outputs": [],
   "source": []
  }
 ],
 "metadata": {
  "kernelspec": {
   "display_name": "Python 3 (ipykernel)",
   "language": "python",
   "name": "python3"
  },
  "language_info": {
   "codemirror_mode": {
    "name": "ipython",
    "version": 3
   },
   "file_extension": ".py",
   "mimetype": "text/x-python",
   "name": "python",
   "nbconvert_exporter": "python",
   "pygments_lexer": "ipython3",
   "version": "3.8.16"
  }
 },
 "nbformat": 4,
 "nbformat_minor": 5
}
