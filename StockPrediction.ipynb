{
 "cells": [
  {
   "cell_type": "markdown",
   "id": "f4e94bf5-4b9f-4197-99e9-8a16139732d0",
   "metadata": {},
   "source": [
    "Import the necessary libraries"
   ]
  },
  {
   "cell_type": "code",
   "execution_count": 1,
   "id": "4d0f6da6-c09b-4432-9541-57543eb81d08",
   "metadata": {},
   "outputs": [],
   "source": [
    "from src.loader import DataLoader, ModelLoder\n",
    "from src.preprocessing import Preprocess\n",
    "from src.model import CustomModel\n",
    "from src.postprocessing import calculate_rmse"
   ]
  },
  {
   "cell_type": "markdown",
   "id": "24d7b2d4-b8f9-471e-90e1-73e59049cdde",
   "metadata": {},
   "source": [
    "Provide a few variables"
   ]
  },
  {
   "cell_type": "code",
   "execution_count": 2,
   "id": "532948c9-078b-4fef-9344-6fd62dab2773",
   "metadata": {},
   "outputs": [],
   "source": [
    "ticker = 'IPGP'\n",
    "rolling_window = 20\n",
    "forecast_horizon = 20\n",
    "test_size = 0.3 # percentage of test data"
   ]
  },
  {
   "cell_type": "markdown",
   "id": "cf23c32c-0464-4d21-965d-0d5f51f00e77",
   "metadata": {},
   "source": [
    "Instantiate data loader"
   ]
  },
  {
   "cell_type": "code",
   "execution_count": 3,
   "id": "ff7cd61f-8f47-4c13-bf49-6355d3823dd3",
   "metadata": {},
   "outputs": [
    {
     "name": "stdout",
     "output_type": "stream",
     "text": [
      "Instantiating data loader\n",
      "Reading from: data/Data_for_IPGP.csv\n"
     ]
    }
   ],
   "source": [
    "data = DataLoader(ticker='IPGP')\n",
    "data.set_datadir(dirname='data/')\n",
    "data.read_local(preprocessed=True)"
   ]
  },
  {
   "cell_type": "markdown",
   "id": "0fcb2223-a654-48df-8fd5-5447a2c699ed",
   "metadata": {},
   "source": [
    "Instantiate preprocessor"
   ]
  },
  {
   "cell_type": "code",
   "execution_count": 4,
   "id": "bdc42b4f-4b05-48dc-a671-62bd4bdc8b04",
   "metadata": {},
   "outputs": [
    {
     "name": "stdout",
     "output_type": "stream",
     "text": [
      "Instantiating preprocessor\n"
     ]
    }
   ],
   "source": [
    "preprocessor = Preprocess()\n",
    "preprocessor.set_df(data.df_processed)\n",
    "preprocessor.dropna()\n",
    "preprocessor.set_rolling_window(rolling_window) \n",
    "preprocessor.set_test_size(test_size)"
   ]
  },
  {
   "cell_type": "markdown",
   "id": "cd69918f-7cfe-4420-9d0f-ede0cc60870f",
   "metadata": {},
   "source": [
    "Split dataframe"
   ]
  },
  {
   "cell_type": "code",
   "execution_count": 5,
   "id": "0d52427a-8e42-4232-945d-74f4be98d006",
   "metadata": {},
   "outputs": [
    {
     "name": "stdout",
     "output_type": "stream",
     "text": [
      "Training data starts at 2007-03-13 00:00:00\n",
      "Training - test split at 2016-04-05 00:00:00\n",
      "Testing data ends at 2020-02-25 00:00:00\n",
      "\n",
      "prediction data starts at 2020-02-26 00:00:00\n",
      "prediction data ends at 2020-03-24 00:00:00\n"
     ]
    }
   ],
   "source": [
    "data_split = preprocessor.generate_train_test_predict_split()"
   ]
  },
  {
   "cell_type": "markdown",
   "id": "90ba1078-0526-4b6a-b54f-1d1cb2f4844e",
   "metadata": {},
   "source": [
    "Check the splits"
   ]
  },
  {
   "cell_type": "code",
   "execution_count": 6,
   "id": "31c7d5fb-ab0e-48a1-a2f4-6ab77cdc00b8",
   "metadata": {},
   "outputs": [
    {
     "name": "stdout",
     "output_type": "stream",
     "text": [
      "\n",
      "first 5 rows from training split\n",
      "            Adj Close    HL_PCT  PCT_change  Volume    MA_5    MA_20  \\\n",
      "Date                                                                   \n",
      "2007-03-13  19.799999  2.290076    0.000000  119600  20.050  23.0290   \n",
      "2007-03-14  19.090000  5.876131   -3.585854  265300  19.792  22.7305   \n",
      "2007-03-15  18.020000  7.254459   -4.857450  482100  19.336  22.3795   \n",
      "2007-03-16  18.230000  3.093358    1.277778  304200  19.002  22.0820   \n",
      "2007-03-19  18.690001  4.547970    3.660566  231400  18.766  21.7790   \n",
      "\n",
      "                MA_60      EMA_5    up_band  mid_band   low_band        ADX  \\\n",
      "Date                                                                          \n",
      "2007-03-13  24.602833  22.412000  20.530665    20.050  19.569334  19.423748   \n",
      "2007-03-14  24.494333  22.004000  20.576183    19.792  19.007817  20.829601   \n",
      "2007-03-15  24.375500  21.538667  20.781246    19.336  17.890754  22.414110   \n",
      "2007-03-16  24.269333  21.119333  20.540384    19.002  17.463616  23.953139   \n",
      "2007-03-19  24.184333  20.765333  20.038389    18.766  17.493611  25.011934   \n",
      "\n",
      "                MACD        RSI       ATR       MOM      WILLR         CCI  \\\n",
      "Date                                                                         \n",
      "2007-03-13 -0.412850  26.156322  1.145762 -3.250000 -91.188564  -92.147029   \n",
      "2007-03-14 -0.403590  23.719625  1.143208 -4.100001 -96.268639  -96.804695   \n",
      "2007-03-15 -0.434818  20.604361  1.154407 -4.439999 -98.420221 -118.408108   \n",
      "2007-03-16 -0.407108  22.748794  1.111235 -5.590000 -92.753638 -114.762400   \n",
      "2007-03-19 -0.327028  27.376013  1.090432 -4.539999 -81.120328  -89.013017   \n",
      "\n",
      "                  OBV  \n",
      "Date                   \n",
      "2007-03-13  2996200.0  \n",
      "2007-03-14  2730900.0  \n",
      "2007-03-15  2248800.0  \n",
      "2007-03-16  2553000.0  \n",
      "2007-03-19  2784400.0  \n",
      "\n",
      "first 5 rows from test split\n",
      "            Adj Close    HL_PCT  PCT_change  Volume       MA_5    MA_20  \\\n",
      "Date                                                                      \n",
      "2016-04-06  94.510002  0.893518    0.031752  293200  95.182001  93.3725   \n",
      "2016-04-07  93.889999  1.199523    0.095945  197200  94.744000  93.5920   \n",
      "2016-04-08  94.010002  1.287559   -0.413136  183000  94.348001  93.8345   \n",
      "2016-04-11  93.790001  1.803931   -0.297650  193000  94.104001  93.9770   \n",
      "2016-04-12  94.230003  1.547391    0.244684  235400  94.086001  94.1365   \n",
      "\n",
      "                MA_60      EMA_5    up_band   mid_band   low_band        ADX  \\\n",
      "Date                                                                           \n",
      "2016-04-06  85.770500  94.518666  96.647191  95.182001  93.716811  18.897394   \n",
      "2016-04-07  86.010833  94.714666  96.182643  94.744000  93.305357  18.470236   \n",
      "2016-04-08  86.194000  94.784666  95.142624  94.348001  93.553378  18.012407   \n",
      "2016-04-11  86.401333  94.724666  94.644165  94.104001  93.563837  17.683471   \n",
      "2016-04-12  86.589333  94.760000  94.601615  94.086001  93.570388  17.347671   \n",
      "\n",
      "                MACD        RSI       ATR       MOM      WILLR        CCI  \\\n",
      "Date                                                                        \n",
      "2016-04-06 -0.295608  60.751402  2.224646  0.900001 -58.777383  -7.079542   \n",
      "2016-04-07 -0.412854  57.897572  2.147171  1.220001 -69.808332 -54.478385   \n",
      "2016-04-08 -0.480968  58.305825  2.079516 -0.509995 -83.992012 -55.143827   \n",
      "2016-04-11 -0.535316  57.210567  2.050979 -1.629997 -87.134437 -51.869748   \n",
      "2016-04-12 -0.534848  58.874480  2.007338 -2.779999 -77.499921 -56.248885   \n",
      "\n",
      "                   OBV  \n",
      "Date                    \n",
      "2016-04-06  36711300.0  \n",
      "2016-04-07  36514100.0  \n",
      "2016-04-08  36697100.0  \n",
      "2016-04-11  36504100.0  \n",
      "2016-04-12  36739500.0  \n",
      "\n",
      "first 5 rows from forecast split\n",
      "             Adj Close     HL_PCT  PCT_change  Volume        MA_5       MA_20  \\\n",
      "Date                                                                            \n",
      "2020-02-26  126.730003   3.568887   -1.092642  561700  132.365999  136.720501   \n",
      "2020-02-27  122.809998   7.370079    0.318575  600900  128.753999  136.357500   \n",
      "2020-02-28  127.639999  10.203384    7.713079  732600  127.280000  136.183000   \n",
      "2020-03-02  130.350006   5.643923    0.882284  628900  126.916002  136.317000   \n",
      "2020-03-03  127.750000   6.266864   -1.730769  507500  127.056001  136.064000   \n",
      "\n",
      "                 MA_60       EMA_5     up_band    mid_band    low_band  \\\n",
      "Date                                                                     \n",
      "2020-02-26  140.591000  138.162667  142.925216  132.365999  121.806781   \n",
      "2020-02-27  140.269667  136.989334  137.385933  128.753999  120.122066   \n",
      "2020-02-28  140.076000  136.068667  133.238389  127.280000  121.321612   \n",
      "2020-03-02  139.922334  135.855334  131.751568  126.916002  122.080436   \n",
      "2020-03-03  139.664000  135.160667  131.939277  127.056001  122.172726   \n",
      "\n",
      "                  ADX      MACD        RSI       ATR        MOM      WILLR  \\\n",
      "Date                                                                         \n",
      "2020-02-26  12.944434 -1.393754  39.381007  6.881038 -14.019997 -85.238075   \n",
      "2020-02-27  14.043445 -1.774430  36.594643  7.021678 -24.260009 -90.875681   \n",
      "2020-02-28  15.188317 -1.599511  42.036544  7.380129 -22.330002 -69.875003   \n",
      "2020-03-02  16.191122 -1.217174  44.894324  7.352262  -9.139999 -52.916478   \n",
      "2020-03-03  16.816519 -1.060972  42.718236  7.391387  -8.059998 -62.828816   \n",
      "\n",
      "                   CCI         OBV  \n",
      "Date                                \n",
      "2020-02-26 -135.354706  80818000.0  \n",
      "2020-02-27 -155.532419  80217100.0  \n",
      "2020-02-28 -114.125077  80949700.0  \n",
      "2020-03-02  -68.480324  81578600.0  \n",
      "2020-03-03  -51.136107  81071100.0  \n"
     ]
    }
   ],
   "source": [
    "print()\n",
    "print('first 5 rows from training split')\n",
    "print(data_split['df_train'].head(5))\n",
    "\n",
    "print()\n",
    "print('first 5 rows from test split')\n",
    "print(data_split['df_test'].head(5))\n",
    "\n",
    "print()\n",
    "print('first 5 rows from forecast split')\n",
    "print(data_split['df_predict'].head(5))"
   ]
  },
  {
   "cell_type": "markdown",
   "id": "f5f84afd-88e9-4b6a-923c-76225129b803",
   "metadata": {},
   "source": [
    "Set forecast horizon and caluculate sequence length for training and validation"
   ]
  },
  {
   "cell_type": "code",
   "execution_count": 7,
   "id": "724e0643-7725-47e4-b36c-8e811b6594ed",
   "metadata": {},
   "outputs": [],
   "source": [
    "# set forecast_horizon\n",
    "preprocessor.set_forecast_horizon(forecast_horizon)\n",
    "preprocessor.calculate_sequence_length()"
   ]
  },
  {
   "cell_type": "markdown",
   "id": "320ac19b-ecd0-4cce-8d38-803a986c8ced",
   "metadata": {},
   "source": [
    "Prepare training set"
   ]
  },
  {
   "cell_type": "code",
   "execution_count": 8,
   "id": "e5dd0235-2590-4ada-881a-17572f8af36c",
   "metadata": {},
   "outputs": [],
   "source": [
    "ndata_train = preprocessor.normalise_dataframe(df=data_split['df_train'], step=1, standard_norm=True)\n",
    "scalers_train = ndata_train['scalers']\n",
    "pdata_train = preprocessor.prepare_feature_and_label(data_list=ndata_train['normalised_data'])\n",
    "train_data = pdata_train['data']\n",
    "X_train = pdata_train['features']\n",
    "y_train = pdata_train['labels']"
   ]
  },
  {
   "cell_type": "markdown",
   "id": "f42f3d07-9084-4b89-92dc-21f64365b145",
   "metadata": {},
   "source": [
    "Prepare test set"
   ]
  },
  {
   "cell_type": "code",
   "execution_count": 9,
   "id": "4e010e1c-7440-404c-8afb-2a9ae883b3b6",
   "metadata": {},
   "outputs": [],
   "source": [
    "ndata_test = preprocessor.normalise_dataframe(df=data_split['df_test'], step=1, standard_norm=True)\n",
    "scalers_test = ndata_test['scalers']\n",
    "pdata_test = preprocessor.prepare_feature_and_label(data_list=ndata_test['normalised_data'])\n",
    "test_data = pdata_test['data']\n",
    "X_test = pdata_test['features']\n",
    "y_test = pdata_test['labels']"
   ]
  },
  {
   "cell_type": "markdown",
   "id": "d5a3d3fa-75dd-41bd-8fe4-6951d6c4aa8b",
   "metadata": {},
   "source": [
    "Inspect shape of training and test set"
   ]
  },
  {
   "cell_type": "code",
   "execution_count": 10,
   "id": "e8da1786-a930-48b7-b85f-a4fc5ec6e800",
   "metadata": {},
   "outputs": [
    {
     "name": "stdout",
     "output_type": "stream",
     "text": [
      "\n",
      "train_data.shape (2244, 40, 19)\n",
      "X_train.shape (2244, 20, 18)\n",
      "y_train.shape (2244, 20, 1)\n",
      "y_train.squeeze().shape (2244, 20)\n",
      "\n",
      "test_data.shape (940, 40, 19)\n",
      "X_test.shape (940, 20, 18)\n",
      "y_test.shape (940, 20, 1)\n",
      "y_test.squeeze().shape (940, 20)\n"
     ]
    }
   ],
   "source": [
    "print()\n",
    "print('train_data.shape', train_data.shape)\n",
    "print('X_train.shape', X_train.shape)\n",
    "print('y_train.shape', y_train.shape)\n",
    "print('y_train.squeeze().shape', y_train.squeeze().shape)\n",
    "\n",
    "print()\n",
    "print('test_data.shape', test_data.shape)\n",
    "print('X_test.shape', X_test.shape)\n",
    "print('y_test.shape', y_test.shape)\n",
    "print('y_test.squeeze().shape', y_test.squeeze().shape)"
   ]
  },
  {
   "cell_type": "markdown",
   "id": "58c9307c-5a10-4d53-b432-24da05cc05b1",
   "metadata": {},
   "source": [
    "Load model"
   ]
  },
  {
   "cell_type": "code",
   "execution_count": 11,
   "id": "80e8563b-2128-47f2-a6bc-dfa1d2957367",
   "metadata": {},
   "outputs": [
    {
     "name": "stdout",
     "output_type": "stream",
     "text": [
      "Loading model from model/LSTM_IPGP_20_20.h5\n"
     ]
    }
   ],
   "source": [
    "model_loader = ModelLoder()\n",
    "model_loader.set_model_dir(dirname='model/')\n",
    "model_loader.set_ticker(ticker=ticker)\n",
    "model_loader.set_rolling_window(rolling_window)\n",
    "model_loader.set_forecast_horizon(forecast_horizon)\n",
    "\n",
    "model_loader.read_model_local()\n",
    "model = model_loader.model"
   ]
  },
  {
   "cell_type": "markdown",
   "id": "decbff55-4820-452c-8127-57d5499db373",
   "metadata": {},
   "source": [
    "Print model summary"
   ]
  },
  {
   "cell_type": "code",
   "execution_count": 12,
   "id": "f4be3b46-ce24-41ee-8bb6-2dc5ac776a0b",
   "metadata": {},
   "outputs": [
    {
     "name": "stdout",
     "output_type": "stream",
     "text": [
      "Model: \"sequential_1\"\n",
      "_________________________________________________________________\n",
      " Layer (type)                Output Shape              Param #   \n",
      "=================================================================\n",
      " lstm_1 (LSTM)               (None, 400)               670400    \n",
      "                                                                 \n",
      " repeat_vector_1 (RepeatVec  (None, 20, 400)           0         \n",
      " tor)                                                            \n",
      "                                                                 \n",
      " lstm_2 (LSTM)               (None, 20, 400)           1281600   \n",
      "                                                                 \n",
      " time_distributed_1 (TimeDi  (None, 20, 1)             401       \n",
      " stributed)                                                      \n",
      "                                                                 \n",
      " dropout_1 (Dropout)         (None, 20, 1)             0         \n",
      "                                                                 \n",
      " flatten_1 (Flatten)         (None, 20)                0         \n",
      "                                                                 \n",
      "=================================================================\n",
      "Total params: 1952401 (7.45 MB)\n",
      "Trainable params: 1952401 (7.45 MB)\n",
      "Non-trainable params: 0 (0.00 Byte)\n",
      "_________________________________________________________________\n",
      "None\n"
     ]
    }
   ],
   "source": [
    "print(model.summary())"
   ]
  },
  {
   "cell_type": "markdown",
   "id": "fd8686d6-6bce-4a31-ac59-b453eeaae183",
   "metadata": {},
   "source": [
    "Predict on test set"
   ]
  },
  {
   "cell_type": "code",
   "execution_count": 13,
   "id": "9974250b-2473-45a5-a570-ceb541367a74",
   "metadata": {},
   "outputs": [
    {
     "name": "stdout",
     "output_type": "stream",
     "text": [
      "30/30 [==============================] - 5s 148ms/step\n"
     ]
    }
   ],
   "source": [
    "predicts = model.predict(X_test) # shape: (sample, output)"
   ]
  },
  {
   "cell_type": "markdown",
   "id": "df549a03-5337-446f-8e25-0470c09d0375",
   "metadata": {},
   "source": [
    "Calculate error on test set"
   ]
  },
  {
   "cell_type": "code",
   "execution_count": 14,
   "id": "386388cf-c291-4a08-940f-f97d7bd927fb",
   "metadata": {},
   "outputs": [
    {
     "name": "stdout",
     "output_type": "stream",
     "text": [
      "y_test_sq.shape (940, 20)\n",
      "predicts.shape (940, 20)\n"
     ]
    }
   ],
   "source": [
    "y_test_sq = y_test.squeeze()\n",
    "print('y_test_sq.shape', y_test_sq.shape)\n",
    "print('predicts.shape', predicts.shape)"
   ]
  },
  {
   "cell_type": "code",
   "execution_count": 15,
   "id": "d7a56da2-8775-49a8-9d00-513fdf2de752",
   "metadata": {},
   "outputs": [
    {
     "name": "stdout",
     "output_type": "stream",
     "text": [
      "The avearge root mse on test data is: 5.51\n"
     ]
    }
   ],
   "source": [
    "rmse_in_usd = calculate_rmse(scalers=scalers_test, data=test_data, labels=y_test_sq, predicts=predicts, splitname='test')"
   ]
  },
  {
   "cell_type": "code",
   "execution_count": 16,
   "id": "47a2d80f-d652-4bb9-9d5d-c9adcb464b1d",
   "metadata": {},
   "outputs": [],
   "source": [
    "# window_size = rolling_window + forecast_horizon\n",
    "\n",
    "# # plot some prediction results of the validation data set.\n",
    "# nrows = 4\n",
    "# ncols = 3\n",
    "\n",
    "# f, axes = plt.subplots(nrows, ncols, sharex=True, figsize = (10,8))\n",
    "# f.suptitle(\"Price predictions for {} in the next 20 days\".format(stock_symbol), fontsize=16)\n",
    "\n",
    "# i = 0\n",
    "\n",
    "# for ax in axes.flatten():\n",
    "   \n",
    "#    ax.plot(invert_true_test[i], 'b', label = \"True data\",linewidth=2)\n",
    "#    ax.plot(invert_predict_test[i], 'r', label = 'Prediction',linewidth=2)\n",
    "   \n",
    "#    i += window_size\n",
    "   \n",
    "# # compare the price change in the next 20 days\n",
    "\n",
    "# gain = []  # the gain/loss is percentage terms for the next 20 days\n",
    "\n",
    "# for p in range(0, len(invert_predict_test), 20):\n",
    "#    prices = invert_predict_test[p]\n",
    "#    gain.append( (prices[-1]/prices[0] - 1 ) * 100)\n",
    "   \n",
    "# _ = plt.hist(gain, bins='auto') "
   ]
  },
  {
   "cell_type": "code",
   "execution_count": null,
   "id": "a01a8220-a4c1-40f2-b7d3-f49f1afd723c",
   "metadata": {},
   "outputs": [],
   "source": []
  },
  {
   "cell_type": "markdown",
   "id": "d064e091-18ee-4f75-8505-095270ba5169",
   "metadata": {},
   "source": [
    "Train model"
   ]
  },
  {
   "cell_type": "code",
   "execution_count": 17,
   "id": "dfdb014f-ffb0-4b0c-919f-da53b6087fb8",
   "metadata": {},
   "outputs": [],
   "source": [
    "# model = CustomModel()\n",
    "\n",
    "# drop_rate=0.1\n",
    "# latent_n=400\n",
    "# feature_n= X_train.shape[2]\n",
    "\n",
    "# model = model.build_model(\n",
    "#     input_n=rolling_window,\n",
    "#     output_n=forecast_horizon,\n",
    "#     drop_rate=drop_rate,\n",
    "#     latent_n=latent_n,\n",
    "#     feature_n=feature_n\n",
    "#     )\n",
    "\n",
    "# # fit model here"
   ]
  },
  {
   "cell_type": "code",
   "execution_count": null,
   "id": "b551070f-729f-4350-a27c-8d2429efa6e6",
   "metadata": {},
   "outputs": [],
   "source": []
  }
 ],
 "metadata": {
  "kernelspec": {
   "display_name": "Python 3 (ipykernel)",
   "language": "python",
   "name": "python3"
  },
  "language_info": {
   "codemirror_mode": {
    "name": "ipython",
    "version": 3
   },
   "file_extension": ".py",
   "mimetype": "text/x-python",
   "name": "python",
   "nbconvert_exporter": "python",
   "pygments_lexer": "ipython3",
   "version": "3.8.16"
  }
 },
 "nbformat": 4,
 "nbformat_minor": 5
}
